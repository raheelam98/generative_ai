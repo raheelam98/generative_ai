{
  "nbformat": 4,
  "nbformat_minor": 0,
  "metadata": {
    "colab": {
      "provenance": [],
      "include_colab_link": true
    },
    "kernelspec": {
      "name": "python3",
      "display_name": "Python 3"
    },
    "language_info": {
      "name": "python"
    }
  },
  "cells": [
    {
      "cell_type": "markdown",
      "metadata": {
        "id": "view-in-github",
        "colab_type": "text"
      },
      "source": [
        "<a href=\"https://colab.research.google.com/github/raheelam98/generative_ai/blob/main/RAG/pinecone/pinecone_vector_db.ipynb\" target=\"_parent\"><img src=\"https://colab.research.google.com/assets/colab-badge.svg\" alt=\"Open In Colab\"/></a>"
      ]
    },
    {
      "cell_type": "markdown",
      "source": [
        "#### Implementation of RAG with Pinecone Vector DB\n",
        "\n",
        "[Class-05: AI-201- Fundamentals of Agentic AI: Implementation of RAG with Pinecone Vector DB](https://www.youtube.com/watch?v=xQojOkqRbsU)\n",
        "\n",
        "Model : Google\n",
        "Vector DB : Pinecone\n",
        "\n",
        "#### **Tutorials**\n",
        "\n",
        "[LangChain Pinecone](https://python.langchain.com/docs/integrations/vectorstores/pinecone/)"
      ],
      "metadata": {
        "id": "PR5rqUXT8pN6"
      }
    },
    {
      "cell_type": "code",
      "execution_count": 10,
      "metadata": {
        "id": "i1SN2iGf7RDk"
      },
      "outputs": [],
      "source": [
        "# Install the required packages:\n",
        "%%capture --no-stderr\n",
        "%pip install -qU langchain-pinecone langchain-google-genai"
      ]
    },
    {
      "cell_type": "markdown",
      "source": [
        "**Credentials**"
      ],
      "metadata": {
        "id": "nXXkJQfshFVw"
      }
    },
    {
      "cell_type": "code",
      "source": [
        "from google.colab import userdata\n",
        "\n",
        "from pinecone import Pinecone, ServerlessSpec\n",
        "\n",
        "# save key in varaiable\n",
        "pinecone_api_key = userdata.get(\"PINECONE_API_KEY\")\n",
        "\n",
        "# initialize pinecone\n",
        "pc = Pinecone(api_key=pinecone_api_key)\n"
      ],
      "metadata": {
        "id": "wZOL6EphWdKI"
      },
      "execution_count": 11,
      "outputs": []
    },
    {
      "cell_type": "code",
      "source": [
        "print(pc)"
      ],
      "metadata": {
        "colab": {
          "base_uri": "https://localhost:8080/"
        },
        "id": "zitvZtrAUGEI",
        "outputId": "1cc193a0-ccc2-48a7-fea9-fa37bac67a64"
      },
      "execution_count": null,
      "outputs": [
        {
          "output_type": "stream",
          "name": "stdout",
          "text": [
            "<pinecone.control.pinecone.Pinecone object at 0x7dfd3b719fd0>\n"
          ]
        }
      ]
    },
    {
      "cell_type": "markdown",
      "source": [
        "### **Indexing**\n",
        "\n",
        "**Connect Vector Store to a Pinecone index**\n",
        "\n",
        "dimension is 768 becuse we are using google model\n",
        "\n",
        "Createing index through pinecone key"
      ],
      "metadata": {
        "id": "U0Ga0AMLhRnl"
      }
    },
    {
      "cell_type": "code",
      "source": [
        "import time\n",
        "\n",
        "# Defining Index Name\n",
        "index_name=\"rag-pinecone-project-2\"\n",
        "\n",
        "# Creating a Pinecone Index\n",
        "pc.create_index(\n",
        "    name=index_name,\n",
        "    dimension=768,\n",
        "    metric=\"cosine\",\n",
        "    spec=ServerlessSpec(cloud=\"aws\", region=\"us-east-1\"),\n",
        ")\n",
        "\n",
        "# Accessing the Index\n",
        "index = pc.Index(index_name)"
      ],
      "metadata": {
        "id": "V9UE8EsSUPcb"
      },
      "execution_count": 12,
      "outputs": []
    },
    {
      "cell_type": "code",
      "source": [
        "print(index)"
      ],
      "metadata": {
        "id": "p2374S7FOhuC",
        "outputId": "e6eea855-0791-4b53-af2b-4e525ebc4705",
        "colab": {
          "base_uri": "https://localhost:8080/"
        }
      },
      "execution_count": 13,
      "outputs": [
        {
          "output_type": "stream",
          "name": "stdout",
          "text": [
            "<pinecone.data.index.Index object at 0x7e08ccbabb10>\n"
          ]
        }
      ]
    },
    {
      "cell_type": "markdown",
      "source": [
        "### **Embedding**\n",
        "\n",
        "LangChain embeddings are vector representations of text used for semantic understanding and retrieval in AI workflows.\n",
        "\n",
        "Semantic refers to the meaning or interpretation of words, phrases, or symbols in a specific context.\n",
        "\n",
        "**Langchain Google Embeddings**\n",
        "\n",
        "[Google Generative AI Embeddings](https://python.langchain.com/docs/integrations/text_embedding/google_generative_ai/)"
      ],
      "metadata": {
        "id": "Hn85wZDKTcH3"
      }
    },
    {
      "cell_type": "code",
      "source": [
        "from langchain_google_genai import GoogleGenerativeAIEmbeddings\n",
        "import os\n",
        "\n",
        "os.environ['GOOGLE_API_KEY'] = userdata.get('GOOGLE_API_KEY')\n",
        "\n",
        "embeddings = GoogleGenerativeAIEmbeddings(model=\"models/embedding-001\")\n"
      ],
      "metadata": {
        "id": "rnaLaXY4V2nD"
      },
      "execution_count": 14,
      "outputs": []
    },
    {
      "cell_type": "code",
      "source": [
        "vector = embeddings.embed_query(\"Pinecone Vector DB!\")\n",
        "vector[:5]  # print last 5"
      ],
      "metadata": {
        "id": "T391sUARXM9i",
        "outputId": "b1d5d974-9fe0-40d6-8a3b-5fc5fe506246",
        "colab": {
          "base_uri": "https://localhost:8080/"
        }
      },
      "execution_count": 15,
      "outputs": [
        {
          "output_type": "execute_result",
          "data": {
            "text/plain": [
              "[0.012879692018032074,\n",
              " -0.06462990492582321,\n",
              " -0.05366327241063118,\n",
              " -0.021048594266176224,\n",
              " 0.035343751311302185]"
            ]
          },
          "metadata": {},
          "execution_count": 15
        }
      ]
    },
    {
      "cell_type": "markdown",
      "source": [],
      "metadata": {
        "id": "fVbQQCbxY31f"
      }
    },
    {
      "cell_type": "code",
      "source": [
        "from langchain_pinecone import PineconeVectorStore\n",
        "\n",
        "vector_store = PineconeVectorStore(index=index, embedding=embeddings)"
      ],
      "metadata": {
        "id": "w0XBIQpopTKb"
      },
      "execution_count": 16,
      "outputs": []
    }
  ]
}